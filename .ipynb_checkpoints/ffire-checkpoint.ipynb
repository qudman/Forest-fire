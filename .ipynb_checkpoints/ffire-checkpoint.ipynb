{
 "cells": [
  {
   "cell_type": "markdown",
   "id": "998d4fd0",
   "metadata": {},
   "source": [
    "Abstract: This is a difficult regression task, where **the aim is to predict the burned area of forest fires, in the northeast region of Portugal**, by using meteorological and other data."
   ]
  },
  {
   "cell_type": "markdown",
   "id": "385f2fa3",
   "metadata": {},
   "source": [
    "**Source:**\n",
    "\n",
    "Paulo Cortez, pcortez '@' dsi.uminho.pt, Department of Information Systems, University of Minho, Portugal.\n",
    "Aníbal Morais, araimorais '@' gmail.com, Department of Information Systems, University of Minho, Portugal.\n",
    "\n",
    "**Citation Request:**\n",
    "\n",
    "This dataset is public available for research. The details are described in [Cortez and Morais, 2007].   \n",
    "Please include this citation if you plan to use this database:   \n",
    "[Cortez and Morais, 2007] P. Cortez and A. Morais. A Data Mining Approach to Predict Forest Fires using Meteorological Data. In J. Neves, M. F. Santos and J. Machado Eds., New Trends in Artificial Intelligence, Proceedings of the 13th EPIA 2007 - Portuguese Conference on Artificial Intelligence, December, Guimarães, Portugal, pp. 512-523, 2007. APPIA, ISBN-13 978-989-95618-0-9. Available at: [Web Link]"
   ]
  },
  {
   "cell_type": "code",
   "execution_count": 2,
   "id": "b5d9d5a7",
   "metadata": {},
   "outputs": [],
   "source": [
    "import numpy as np\n",
    "import pandas as pd\n",
    "import matplotlib.pyplot as plt\n",
    "\n",
    "import seaborn as sns\n",
    "%matplotlib inline"
   ]
  },
  {
   "cell_type": "code",
   "execution_count": 3,
   "id": "2ee0b4bc",
   "metadata": {},
   "outputs": [],
   "source": [
    "df = pd.read_csv('forestfires.csv')"
   ]
  },
  {
   "cell_type": "code",
   "execution_count": 4,
   "id": "9e3b4e33",
   "metadata": {},
   "outputs": [
    {
     "data": {
      "text/html": [
       "<div>\n",
       "<style scoped>\n",
       "    .dataframe tbody tr th:only-of-type {\n",
       "        vertical-align: middle;\n",
       "    }\n",
       "\n",
       "    .dataframe tbody tr th {\n",
       "        vertical-align: top;\n",
       "    }\n",
       "\n",
       "    .dataframe thead th {\n",
       "        text-align: right;\n",
       "    }\n",
       "</style>\n",
       "<table border=\"1\" class=\"dataframe\">\n",
       "  <thead>\n",
       "    <tr style=\"text-align: right;\">\n",
       "      <th></th>\n",
       "      <th>x</th>\n",
       "      <th>y</th>\n",
       "      <th>month</th>\n",
       "      <th>day</th>\n",
       "      <th>ffmc</th>\n",
       "      <th>dmc</th>\n",
       "      <th>dc</th>\n",
       "      <th>isi</th>\n",
       "      <th>temp</th>\n",
       "      <th>rh</th>\n",
       "      <th>wind</th>\n",
       "      <th>rain</th>\n",
       "      <th>area</th>\n",
       "    </tr>\n",
       "  </thead>\n",
       "  <tbody>\n",
       "    <tr>\n",
       "      <th>0</th>\n",
       "      <td>7</td>\n",
       "      <td>5</td>\n",
       "      <td>mar</td>\n",
       "      <td>fri</td>\n",
       "      <td>86.2</td>\n",
       "      <td>26.2</td>\n",
       "      <td>94.3</td>\n",
       "      <td>5.1</td>\n",
       "      <td>8.2</td>\n",
       "      <td>51</td>\n",
       "      <td>6.7</td>\n",
       "      <td>0.0</td>\n",
       "      <td>0.0</td>\n",
       "    </tr>\n",
       "    <tr>\n",
       "      <th>1</th>\n",
       "      <td>7</td>\n",
       "      <td>4</td>\n",
       "      <td>oct</td>\n",
       "      <td>tue</td>\n",
       "      <td>90.6</td>\n",
       "      <td>35.4</td>\n",
       "      <td>669.1</td>\n",
       "      <td>6.7</td>\n",
       "      <td>18.0</td>\n",
       "      <td>33</td>\n",
       "      <td>0.9</td>\n",
       "      <td>0.0</td>\n",
       "      <td>0.0</td>\n",
       "    </tr>\n",
       "    <tr>\n",
       "      <th>2</th>\n",
       "      <td>7</td>\n",
       "      <td>4</td>\n",
       "      <td>oct</td>\n",
       "      <td>sat</td>\n",
       "      <td>90.6</td>\n",
       "      <td>43.7</td>\n",
       "      <td>686.9</td>\n",
       "      <td>6.7</td>\n",
       "      <td>14.6</td>\n",
       "      <td>33</td>\n",
       "      <td>1.3</td>\n",
       "      <td>0.0</td>\n",
       "      <td>0.0</td>\n",
       "    </tr>\n",
       "    <tr>\n",
       "      <th>3</th>\n",
       "      <td>8</td>\n",
       "      <td>6</td>\n",
       "      <td>mar</td>\n",
       "      <td>fri</td>\n",
       "      <td>91.7</td>\n",
       "      <td>33.3</td>\n",
       "      <td>77.5</td>\n",
       "      <td>9.0</td>\n",
       "      <td>8.3</td>\n",
       "      <td>97</td>\n",
       "      <td>4.0</td>\n",
       "      <td>0.2</td>\n",
       "      <td>0.0</td>\n",
       "    </tr>\n",
       "    <tr>\n",
       "      <th>4</th>\n",
       "      <td>8</td>\n",
       "      <td>6</td>\n",
       "      <td>mar</td>\n",
       "      <td>sun</td>\n",
       "      <td>89.3</td>\n",
       "      <td>51.3</td>\n",
       "      <td>102.2</td>\n",
       "      <td>9.6</td>\n",
       "      <td>11.4</td>\n",
       "      <td>99</td>\n",
       "      <td>1.8</td>\n",
       "      <td>0.0</td>\n",
       "      <td>0.0</td>\n",
       "    </tr>\n",
       "  </tbody>\n",
       "</table>\n",
       "</div>"
      ],
      "text/plain": [
       "   x  y month  day  ffmc   dmc     dc  isi  temp  rh  wind  rain  area\n",
       "0  7  5   mar  fri  86.2  26.2   94.3  5.1   8.2  51   6.7   0.0   0.0\n",
       "1  7  4   oct  tue  90.6  35.4  669.1  6.7  18.0  33   0.9   0.0   0.0\n",
       "2  7  4   oct  sat  90.6  43.7  686.9  6.7  14.6  33   1.3   0.0   0.0\n",
       "3  8  6   mar  fri  91.7  33.3   77.5  9.0   8.3  97   4.0   0.2   0.0\n",
       "4  8  6   mar  sun  89.3  51.3  102.2  9.6  11.4  99   1.8   0.0   0.0"
      ]
     },
     "execution_count": 4,
     "metadata": {},
     "output_type": "execute_result"
    }
   ],
   "source": [
    "df.columns = df.columns.str.lower()\n",
    "df.head()"
   ]
  },
  {
   "cell_type": "code",
   "execution_count": 5,
   "id": "f8b8ed38",
   "metadata": {},
   "outputs": [
    {
     "data": {
      "text/plain": [
       "<BarContainer object of 517 artists>"
      ]
     },
     "execution_count": 5,
     "metadata": {},
     "output_type": "execute_result"
    },
    {
     "data": {
      "image/png": "[encoded data removed]",
      "text/plain": [
       "<Figure size 432x288 with 1 Axes>"
      ]
     },
     "metadata": {
      "needs_background": "light"
     },
     "output_type": "display_data"
    }
   ],
   "source": [
    "plt.bar(df.month, df.area) #Some basic plots"
   ]
  },
  {
   "cell_type": "code",
   "execution_count": 6,
   "id": "e9eb5a9d",
   "metadata": {},
   "outputs": [
    {
     "data": {
      "text/plain": [
       "<BarContainer object of 517 artists>"
      ]
     },
     "execution_count": 6,
     "metadata": {},
     "output_type": "execute_result"
    },
    {
     "data": {
      "image/png": "[encoded data removed]",
      "text/plain": [
       "<Figure size 432x288 with 1 Axes>"
      ]
     },
     "metadata": {
      "needs_background": "light"
     },
     "output_type": "display_data"
    }
   ],
   "source": [
    "plt.bar(df.day, df.area)"
   ]
  },
  {
   "cell_type": "code",
   "execution_count": 7,
   "id": "62b07aec",
   "metadata": {},
   "outputs": [
    {
     "data": {
      "text/plain": [
       "(array([508.,   6.,   1.,   0.,   0.,   0.,   1.,   0.,   0.,   1.]),\n",
       " array([   0.   ,  109.084,  218.168,  327.252,  436.336,  545.42 ,\n",
       "         654.504,  763.588,  872.672,  981.756, 1090.84 ]),\n",
       " <BarContainer object of 10 artists>)"
      ]
     },
     "execution_count": 7,
     "metadata": {},
     "output_type": "execute_result"
    },
    {
     "data": {
      "image/png": "[encoded data removed]",
      "text/plain": [
       "<Figure size 432x288 with 1 Axes>"
      ]
     },
     "metadata": {
      "needs_background": "light"
     },
     "output_type": "display_data"
    }
   ],
   "source": [
    "plt.hist(df.area) #Skewed response variable. log transform it"
   ]
  },
  {
   "cell_type": "code",
   "execution_count": 8,
   "id": "b0878518",
   "metadata": {},
   "outputs": [],
   "source": [
    "df.area = np.log1p(df.area)"
   ]
  },
  {
   "cell_type": "code",
   "execution_count": 9,
   "id": "dad3d124",
   "metadata": {},
   "outputs": [
    {
     "data": {
      "text/html": [
       "<div>\n",
       "<style scoped>\n",
       "    .dataframe tbody tr th:only-of-type {\n",
       "        vertical-align: middle;\n",
       "    }\n",
       "\n",
       "    .dataframe tbody tr th {\n",
       "        vertical-align: top;\n",
       "    }\n",
       "\n",
       "    .dataframe thead th {\n",
       "        text-align: right;\n",
       "    }\n",
       "</style>\n",
       "<table border=\"1\" class=\"dataframe\">\n",
       "  <thead>\n",
       "    <tr style=\"text-align: right;\">\n",
       "      <th></th>\n",
       "      <th>x</th>\n",
       "      <th>y</th>\n",
       "      <th>ffmc</th>\n",
       "      <th>dmc</th>\n",
       "      <th>dc</th>\n",
       "      <th>isi</th>\n",
       "      <th>temp</th>\n",
       "      <th>rh</th>\n",
       "      <th>wind</th>\n",
       "      <th>rain</th>\n",
       "      <th>area</th>\n",
       "    </tr>\n",
       "  </thead>\n",
       "  <tbody>\n",
       "    <tr>\n",
       "      <th>count</th>\n",
       "      <td>517.000000</td>\n",
       "      <td>517.000000</td>\n",
       "      <td>517.000000</td>\n",
       "      <td>517.000000</td>\n",
       "      <td>517.000000</td>\n",
       "      <td>517.000000</td>\n",
       "      <td>517.000000</td>\n",
       "      <td>517.000000</td>\n",
       "      <td>517.000000</td>\n",
       "      <td>517.000000</td>\n",
       "      <td>517.000000</td>\n",
       "    </tr>\n",
       "    <tr>\n",
       "      <th>mean</th>\n",
       "      <td>4.669246</td>\n",
       "      <td>4.299807</td>\n",
       "      <td>90.644681</td>\n",
       "      <td>110.872340</td>\n",
       "      <td>547.940039</td>\n",
       "      <td>9.021663</td>\n",
       "      <td>18.889168</td>\n",
       "      <td>44.288201</td>\n",
       "      <td>4.017602</td>\n",
       "      <td>0.021663</td>\n",
       "      <td>1.111026</td>\n",
       "    </tr>\n",
       "    <tr>\n",
       "      <th>std</th>\n",
       "      <td>2.313778</td>\n",
       "      <td>1.229900</td>\n",
       "      <td>5.520111</td>\n",
       "      <td>64.046482</td>\n",
       "      <td>248.066192</td>\n",
       "      <td>4.559477</td>\n",
       "      <td>5.806625</td>\n",
       "      <td>16.317469</td>\n",
       "      <td>1.791653</td>\n",
       "      <td>0.295959</td>\n",
       "      <td>1.398436</td>\n",
       "    </tr>\n",
       "    <tr>\n",
       "      <th>min</th>\n",
       "      <td>1.000000</td>\n",
       "      <td>2.000000</td>\n",
       "      <td>18.700000</td>\n",
       "      <td>1.100000</td>\n",
       "      <td>7.900000</td>\n",
       "      <td>0.000000</td>\n",
       "      <td>2.200000</td>\n",
       "      <td>15.000000</td>\n",
       "      <td>0.400000</td>\n",
       "      <td>0.000000</td>\n",
       "      <td>0.000000</td>\n",
       "    </tr>\n",
       "    <tr>\n",
       "      <th>25%</th>\n",
       "      <td>3.000000</td>\n",
       "      <td>4.000000</td>\n",
       "      <td>90.200000</td>\n",
       "      <td>68.600000</td>\n",
       "      <td>437.700000</td>\n",
       "      <td>6.500000</td>\n",
       "      <td>15.500000</td>\n",
       "      <td>33.000000</td>\n",
       "      <td>2.700000</td>\n",
       "      <td>0.000000</td>\n",
       "      <td>0.000000</td>\n",
       "    </tr>\n",
       "    <tr>\n",
       "      <th>50%</th>\n",
       "      <td>4.000000</td>\n",
       "      <td>4.000000</td>\n",
       "      <td>91.600000</td>\n",
       "      <td>108.300000</td>\n",
       "      <td>664.200000</td>\n",
       "      <td>8.400000</td>\n",
       "      <td>19.300000</td>\n",
       "      <td>42.000000</td>\n",
       "      <td>4.000000</td>\n",
       "      <td>0.000000</td>\n",
       "      <td>0.418710</td>\n",
       "    </tr>\n",
       "    <tr>\n",
       "      <th>75%</th>\n",
       "      <td>7.000000</td>\n",
       "      <td>5.000000</td>\n",
       "      <td>92.900000</td>\n",
       "      <td>142.400000</td>\n",
       "      <td>713.900000</td>\n",
       "      <td>10.800000</td>\n",
       "      <td>22.800000</td>\n",
       "      <td>53.000000</td>\n",
       "      <td>4.900000</td>\n",
       "      <td>0.000000</td>\n",
       "      <td>2.024193</td>\n",
       "    </tr>\n",
       "    <tr>\n",
       "      <th>max</th>\n",
       "      <td>9.000000</td>\n",
       "      <td>9.000000</td>\n",
       "      <td>96.200000</td>\n",
       "      <td>291.300000</td>\n",
       "      <td>860.600000</td>\n",
       "      <td>56.100000</td>\n",
       "      <td>33.300000</td>\n",
       "      <td>100.000000</td>\n",
       "      <td>9.400000</td>\n",
       "      <td>6.400000</td>\n",
       "      <td>6.995620</td>\n",
       "    </tr>\n",
       "  </tbody>\n",
       "</table>\n",
       "</div>"
      ],
      "text/plain": [
       "                x           y        ffmc         dmc          dc         isi  \\\n",
       "count  517.000000  517.000000  517.000000  517.000000  517.000000  517.000000   \n",
       "mean     4.669246    4.299807   90.644681  110.872340  547.940039    9.021663   \n",
       "std      2.313778    1.229900    5.520111   64.046482  248.066192    4.559477   \n",
       "min      1.000000    2.000000   18.700000    1.100000    7.900000    0.000000   \n",
       "25%      3.000000    4.000000   90.200000   68.600000  437.700000    6.500000   \n",
       "50%      4.000000    4.000000   91.600000  108.300000  664.200000    8.400000   \n",
       "75%      7.000000    5.000000   92.900000  142.400000  713.900000   10.800000   \n",
       "max      9.000000    9.000000   96.200000  291.300000  860.600000   56.100000   \n",
       "\n",
       "             temp          rh        wind        rain        area  \n",
       "count  517.000000  517.000000  517.000000  517.000000  517.000000  \n",
       "mean    18.889168   44.288201    4.017602    0.021663    1.111026  \n",
       "std      5.806625   16.317469    1.791653    0.295959    1.398436  \n",
       "min      2.200000   15.000000    0.400000    0.000000    0.000000  \n",
       "25%     15.500000   33.000000    2.700000    0.000000    0.000000  \n",
       "50%     19.300000   42.000000    4.000000    0.000000    0.418710  \n",
       "75%     22.800000   53.000000    4.900000    0.000000    2.024193  \n",
       "max     33.300000  100.000000    9.400000    6.400000    6.995620  "
      ]
     },
     "execution_count": 9,
     "metadata": {},
     "output_type": "execute_result"
    }
   ],
   "source": [
    "df.describe()"
   ]
  },
  {
   "cell_type": "markdown",
   "id": "0c22866a",
   "metadata": {},
   "source": [
    "### We now split dataset into train, test, val. This is so we can develop our model "
   ]
  },
  {
   "cell_type": "code",
   "execution_count": 11,
   "id": "ed963436",
   "metadata": {},
   "outputs": [],
   "source": [
    "from sklearn.model_selection import train_test_split"
   ]
  },
  {
   "cell_type": "code",
   "execution_count": 12,
   "id": "a2f16f70",
   "metadata": {},
   "outputs": [],
   "source": [
    "df_full_train, df_test = train_test_split(df, test_size=0.2, random_state=1)\n",
    "df_train, df_val = train_test_split(df_full_train, test_size=0.25, random_state=1)"
   ]
  },
  {
   "cell_type": "code",
   "execution_count": null,
   "id": "435c6780",
   "metadata": {},
   "outputs": [],
   "source": [
    "df_train = df_train.reset_index(drop=True)\n",
    "df_val = df_val.reset_index(drop=True)\n",
    "df_test = df_test.reset_index(drop=True)"
   ]
  },
  {
   "cell_type": "code",
   "execution_count": null,
   "id": "03ed7b88",
   "metadata": {},
   "outputs": [],
   "source": [
    "y_train = df_train.area.values\n",
    "y_val = df_val.area.values\n",
    "y_test = df_test.area.values"
   ]
  },
  {
   "cell_type": "code",
   "execution_count": null,
   "id": "2d251aaf",
   "metadata": {},
   "outputs": [],
   "source": [
    "del df_train['area']\n",
    "del df_val['area']\n",
    "del df_test['area']"
   ]
  },
  {
   "cell_type": "markdown",
   "id": "1c67101b",
   "metadata": {},
   "source": [
    "Now, use `DictVectorizer` to turn train and validation into matrices:"
   ]
  },
  {
   "cell_type": "code",
   "execution_count": null,
   "id": "02d60227",
   "metadata": {},
   "outputs": [],
   "source": [
    "from sklearn.tree import DecisionTreeRegressor\n",
    "from sklearn.feature_extraction import DictVectorizer"
   ]
  },
  {
   "cell_type": "code",
   "execution_count": null,
   "id": "5b8d3917",
   "metadata": {},
   "outputs": [],
   "source": [
    "train_dict = df_train.to_dict(orient='records')"
   ]
  },
  {
   "cell_type": "code",
   "execution_count": null,
   "id": "2fe8a92f",
   "metadata": {},
   "outputs": [],
   "source": [
    "dv = DictVectorizer(sparse='False')\n",
    "X_train = dv.fit_transform(train_dict)"
   ]
  },
  {
   "cell_type": "code",
   "execution_count": null,
   "id": "ae1aa46e",
   "metadata": {},
   "outputs": [],
   "source": [
    "val_dicts = df_val.to_dict(orient='records')\n",
    "X_val = dv.transform(val_dicts)"
   ]
  },
  {
   "cell_type": "markdown",
   "id": "eddc4eca",
   "metadata": {},
   "source": [
    "We intend to use 3 different tools to predict the burned area of forest fires, in the northeast region of Portugal\n",
    "\n",
    "1. Decision Tree Regressor\n",
    "2. Random Forest\n",
    "3. XGBoost\n",
    "Since our dataset follows a regression problem, RMSE will be used to estimate the prefered model. The lower the RMSE, the better."
   ]
  },
  {
   "cell_type": "markdown",
   "id": "16daae67",
   "metadata": {},
   "source": [
    " ## 1. Using Decision Tree Regressor"
   ]
  },
  {
   "cell_type": "markdown",
   "id": "1f8f083d",
   "metadata": {},
   "source": [
    "Using Decision Tree, 2 main parameters are of focus. `max_depth` and `min_sample_leaf`. We iterate over different values of these parameters to get our predictions."
   ]
  },
  {
   "cell_type": "code",
   "execution_count": null,
   "id": "33f774a1",
   "metadata": {},
   "outputs": [],
   "source": [
    "from sklearn.tree import export_text\n",
    "from sklearn.metrics import mean_squared_error"
   ]
  },
  {
   "cell_type": "code",
   "execution_count": null,
   "id": "836afaf6",
   "metadata": {},
   "outputs": [],
   "source": [
    "depths = [1, 2, 3, 5, 10, 15, 20, None]\n",
    "\n",
    "for depth in depths:\n",
    "    dt = DecisionTreeRegressor(max_depth=depth, random_state=1)\n",
    "                               # min_samples_leaf=min_samples_leaf)\n",
    "    dt.fit(X_train, y_train)\n",
    "    \n",
    "    y_pred = dt.predict(X_val)\n",
    "    rmse = np.sqrt(mean_squared_error(y_val, y_pred))\n",
    "    \n",
    "    print('%4s -> %.3f' % (depth, rmse))\n",
    "    \n",
    "#Lowest rmse = depth of 1"
   ]
  },
  {
   "cell_type": "code",
   "execution_count": null,
   "id": "3d049bda",
   "metadata": {},
   "outputs": [],
   "source": [
    "scores = []\n",
    "\n",
    "for depth in [1, 2, 3]: #we chose the 3 lowest RMSE to estimate our prefered min_sample_leaf\n",
    "    for s in [1, 5, 10, 15, 20, 50, 100]:\n",
    "        dt = DecisionTreeRegressor(max_depth=depth, min_samples_leaf=s, random_state=1)\n",
    "        dt.fit(X_train, y_train)\n",
    "\n",
    "        y_pred = dt.predict(X_val)\n",
    "        rmse = np.sqrt(mean_squared_error(y_val, y_pred))\n",
    "        \n",
    "        scores.append((depth, s, rmse))"
   ]
  },
  {
   "cell_type": "code",
   "execution_count": null,
   "id": "1fb7673a",
   "metadata": {},
   "outputs": [],
   "source": [
    "columns = ['max_depth', 'min_samples_leaf', 'rmse']\n",
    "df_scores = pd.DataFrame(scores, columns=columns)"
   ]
  },
  {
   "cell_type": "code",
   "execution_count": null,
   "id": "187f7a32",
   "metadata": {},
   "outputs": [],
   "source": [
    "df_scores_pivot = df_scores.pivot(index='min_samples_leaf', columns=['max_depth'], values=['rmse'])\n",
    "df_scores_pivot.round(3)"
   ]
  },
  {
   "cell_type": "code",
   "execution_count": null,
   "id": "baac3ddf",
   "metadata": {},
   "outputs": [],
   "source": [
    "sns.heatmap(df_scores_pivot, annot=True, fmt=\".3f\")"
   ]
  },
  {
   "cell_type": "markdown",
   "id": "e5aa21fc",
   "metadata": {},
   "source": [
    "The heatmap indicates that `max_depth` of 1  is the best with RMSE of 1.342 while `min_sample_leaf` can be any of the values. We decide to use a `min_sample_leaf` of 20. `min_sample_leaf` of 20 was randomly chosen since we had all to be similar.   \n",
    "We then train our model on the validation dataset as expected using these parameters."
   ]
  },
  {
   "cell_type": "code",
   "execution_count": null,
   "id": "1d4b5a9d",
   "metadata": {},
   "outputs": [],
   "source": [
    "dt = DecisionTreeRegressor(max_depth=1, min_samples_leaf=20, random_state=1)\n",
    "dt.fit(X_train, y_train)"
   ]
  },
  {
   "cell_type": "code",
   "execution_count": null,
   "id": "48865d09",
   "metadata": {},
   "outputs": [],
   "source": [
    "y_pred = dt.predict(X_val)\n",
    "np.sqrt(mean_squared_error(y_val, y_pred))"
   ]
  },
  {
   "cell_type": "code",
   "execution_count": null,
   "id": "e92c7b27",
   "metadata": {},
   "outputs": [],
   "source": [
    "y_pred = dt.predict(X_train)\n",
    "np.sqrt(mean_squared_error(y_train, y_pred))"
   ]
  },
  {
   "cell_type": "code",
   "execution_count": null,
   "id": "511ee864",
   "metadata": {},
   "outputs": [],
   "source": [
    "print(export_text(dt, feature_names=dv.get_feature_names()))"
   ]
  },
  {
   "cell_type": "markdown",
   "id": "e0b5af39",
   "metadata": {},
   "source": [
    "## 2. Using Random Forest"
   ]
  },
  {
   "cell_type": "markdown",
   "id": "dc982ba8",
   "metadata": {},
   "source": [
    "Using Random Forest Regressor, 3 parameters are of focus. `n_estimator`, `max_depth` and `min_sample_leaf`. We iterate over different values of these parameters to get our predictions."
   ]
  },
  {
   "cell_type": "code",
   "execution_count": null,
   "id": "f888d3c6",
   "metadata": {},
   "outputs": [],
   "source": [
    "from sklearn.ensemble import RandomForestRegressor"
   ]
  },
  {
   "cell_type": "code",
   "execution_count": null,
   "id": "71133a91",
   "metadata": {},
   "outputs": [],
   "source": [
    "scores = []\n",
    "\n",
    "for d in [5, 10, 15]:\n",
    "    for n in range(10, 201, 10):\n",
    "        rf = RandomForestRegressor(n_estimators=n, max_depth=d,\n",
    "                                    random_state=1)\n",
    "        rf.fit(X_train, y_train)\n",
    "\n",
    "        y_pred = rf.predict(X_val)\n",
    "        rmse = np.sqrt(mean_squared_error(y_val, y_pred))\n",
    "\n",
    "        scores.append((d, n, rmse))\n",
    "\n",
    "columns = ['max_depth', 'n_estimators', 'rmse']\n",
    "df_scores = pd.DataFrame(scores, columns=columns)"
   ]
  },
  {
   "cell_type": "code",
   "execution_count": null,
   "id": "10b6c79a",
   "metadata": {},
   "outputs": [],
   "source": [
    "for d in [5, 10, 15]:\n",
    "    df_subset = df_scores[df_scores.max_depth == d]\n",
    "    \n",
    "    plt.plot(df_subset.n_estimators, df_subset.rmse,\n",
    "             label='max_depth=%d' % d)\n",
    "\n",
    "plt.xlabel('n_estimator')\n",
    "plt.ylabel('r_mse')\n",
    "plt.legend()\n",
    "\n",
    "plt.ylim([1.32, 1.38])"
   ]
  },
  {
   "cell_type": "markdown",
   "id": "e6d2fc2e",
   "metadata": {},
   "source": [
    "A line plot shows us that a `max_depth` of 5 and `n_estimator` of about 70 produces the best RMSE, therefore it is preferred moving forward."
   ]
  },
  {
   "cell_type": "code",
   "execution_count": null,
   "id": "0b721d20",
   "metadata": {},
   "outputs": [],
   "source": [
    "RandomForestRegressor(n_estimators=70, max_depth=5, random_state=1) ##"
   ]
  },
  {
   "cell_type": "code",
   "execution_count": null,
   "id": "03dea025",
   "metadata": {},
   "outputs": [],
   "source": [
    "max_depth=5"
   ]
  },
  {
   "cell_type": "code",
   "execution_count": null,
   "id": "abb2372c",
   "metadata": {},
   "outputs": [],
   "source": [
    "scores = []\n",
    "\n",
    "for s in [1, 3, 5, 10, 50]:\n",
    "    for n in range(10, 201, 10):\n",
    "        rf = RandomForestRegressor(n_estimators=n,\n",
    "                                    max_depth=max_depth,\n",
    "                                    min_samples_leaf=s,\n",
    "                                    random_state=1)\n",
    "        rf.fit(X_train, y_train)\n",
    "\n",
    "        y_pred = rf.predict(X_val)\n",
    "        rmse = np.sqrt(mean_squared_error(y_val, y_pred))\n",
    "\n",
    "        scores.append((s, n, rmse))"
   ]
  },
  {
   "cell_type": "code",
   "execution_count": null,
   "id": "670d2436",
   "metadata": {},
   "outputs": [],
   "source": [
    "columns = ['min_samples_leaf', 'n_estimators', 'rmse']\n",
    "df_scores = pd.DataFrame(scores, columns=columns)"
   ]
  },
  {
   "cell_type": "code",
   "execution_count": null,
   "id": "2114a561",
   "metadata": {},
   "outputs": [],
   "source": [
    "colors = ['black', 'blue', 'orange', 'red', 'grey']\n",
    "values = [1, 3, 5, 10, 50]\n",
    "\n",
    "for s, col in zip(values, colors):\n",
    "    df_subset = df_scores[df_scores.min_samples_leaf == s]\n",
    "    \n",
    "    plt.plot(df_subset.n_estimators, df_subset.rmse,\n",
    "             color=col,\n",
    "             label='min_samples_leaf=%d' % s)\n",
    "\n",
    "plt.xlabel('n_estimators')\n",
    "plt.ylabel('r_mse')\n",
    "plt.legend()\n",
    "plt.ylim([1.31, 1.35])"
   ]
  },
  {
   "cell_type": "markdown",
   "id": "2e1fb47d",
   "metadata": {},
   "source": [
    "The line plot above suggests that a `min_sample_leaf` of 1 performs better. These 3 parameter estimates will then be used to predict our dataset. The RMSE from her performs slightly better than the Decision Tree algorithm. (`1.326 < 1.342`)"
   ]
  },
  {
   "cell_type": "code",
   "execution_count": null,
   "id": "e7a878eb",
   "metadata": {},
   "outputs": [],
   "source": [
    "rf = RandomForestRegressor(n_estimators=70, max_depth=5, min_samples_leaf=1, random_state=1)\n",
    "rf.fit(X_train, y_train)\n",
    "\n",
    "y_pred = rf.predict(X_val)\n",
    "rmse = np.sqrt(mean_squared_error(y_val, y_pred))\n",
    "rmse"
   ]
  },
  {
   "cell_type": "markdown",
   "id": "f768638f",
   "metadata": {},
   "source": [
    "While still analyzing with random forest regressor, we thought to check which features are most important in predicting forest fires in portugal."
   ]
  },
  {
   "cell_type": "code",
   "execution_count": null,
   "id": "6db76f7a",
   "metadata": {},
   "outputs": [],
   "source": [
    "#rf.feature_importances_\n",
    "df_importance = pd.DataFrame()\n",
    "df_importance['features'] = dv.get_feature_names()\n",
    "df_importance['importances'] = rf.feature_importances_"
   ]
  },
  {
   "cell_type": "code",
   "execution_count": null,
   "id": "db28dcd8",
   "metadata": {},
   "outputs": [],
   "source": [
    "df_importance.sort_values(by='importances', ascending=False).head(10)"
   ]
  },
  {
   "cell_type": "markdown",
   "id": "fc3b35ce",
   "metadata": {},
   "source": [
    "The top 3 most importance features to predict portugal forest fires are;\n",
    "1. temperature in Celsius degrees: 2.2 to 33.30 (th)\n",
    "2. relative humidity in %: 15.0 to 100 (rh)\n",
    "3. DMC index from the FWI system: 1.1 to 291.3 (dmc)\n",
    "\n",
    "Wind is estimated to be the 6th most importance feature in forest fires."
   ]
  },
  {
   "cell_type": "markdown",
   "id": "8e810019",
   "metadata": {},
   "source": [
    "## 3. Using Gradient Boosting; XgBoost"
   ]
  },
  {
   "cell_type": "markdown",
   "id": "b5f4e9f1",
   "metadata": {},
   "source": [
    "Using Gradient Boosting, we also focus on 3 parameters. The learning rate (`eta`), `max_depth` and `min_child_weight`. We iterate over different values of these parameters to get our predictions."
   ]
  },
  {
   "cell_type": "code",
   "execution_count": null,
   "id": "911aed8e",
   "metadata": {},
   "outputs": [],
   "source": [
    "import xgboost as xgb"
   ]
  },
  {
   "cell_type": "code",
   "execution_count": null,
   "id": "4debe24c",
   "metadata": {},
   "outputs": [],
   "source": [
    "features = dv.get_feature_names()\n",
    "dtrain = xgb.DMatrix(X_train, label=y_train, feature_names=features)\n",
    "dval = xgb.DMatrix(X_val, label=y_val, feature_names=features)"
   ]
  },
  {
   "cell_type": "code",
   "execution_count": null,
   "id": "d175ba66",
   "metadata": {},
   "outputs": [],
   "source": [
    "#A watchlist was created so that we can see our output after running the xgboost function\n",
    "watchlist = [(dtrain, 'train'), (dval, 'val')] "
   ]
  },
  {
   "cell_type": "code",
   "execution_count": null,
   "id": "ec09015d",
   "metadata": {},
   "outputs": [],
   "source": [
    "#This function allows us to wrangle the output generated from the xgboost function\n",
    "def parse_xgb_output(output):\n",
    "    results = []\n",
    "\n",
    "    for line in output.stdout.strip().split('\\n'):\n",
    "        it_line, train_line, val_line = line.split('\\t')\n",
    "\n",
    "        it = int(it_line.strip('[]'))\n",
    "        train = float(train_line.split(':')[1])\n",
    "        val = float(val_line.split(':')[1])\n",
    "\n",
    "        results.append((it, train, val))\n",
    "    \n",
    "    columns = ['num_iter', 'train_rmse', 'val_rmse']\n",
    "    df_results = pd.DataFrame(results, columns=columns)\n",
    "    return df_results"
   ]
  },
  {
   "cell_type": "code",
   "execution_count": null,
   "id": "1ae81b93",
   "metadata": {},
   "outputs": [],
   "source": [
    "#We create this dictionary inorder to save our multiple iterations of eta.\n",
    "scores = {} "
   ]
  },
  {
   "cell_type": "markdown",
   "id": "36b42547",
   "metadata": {},
   "source": [
    "**Note to self**: I am unable to write a function that allows me to iterate code below because of the magic funtion (`%%`) used in the cell.   \n",
    "Several, values of `eta` (0.3, 0.1, 0.01) were used to find the best `eta` after which we then proceeded to find the prefered `max_depth` followed by the `min_child_weight`."
   ]
  },
  {
   "cell_type": "code",
   "execution_count": null,
   "id": "311dd796",
   "metadata": {},
   "outputs": [],
   "source": [
    "%%capture output\n",
    "\n",
    "xgb_params = {\n",
    "    'eta': 0.3, #manually change \"eta\" for several values eg; 0.01, 0.1, 0.5, 1.0\n",
    "    'max_depth': 6, #manually change \"max_depth\" for several values eg; 2, 4, 6, 7, 10\n",
    "    'min_child_weight': 1, #manually change \"min_child_weight\" for several values eg; 1. 2. 5, 10\n",
    "    \n",
    "    'objective': 'reg:squarederror',\n",
    "    # 'eval_metric': 'rmse',\n",
    "\n",
    "    'nthread': 8,\n",
    "    'seed': 1,\n",
    "    'verbosity': 1,\n",
    "}\n",
    "\n",
    "model = xgb.train(xgb_params, dtrain, num_boost_round=200,\n",
    "                  verbose_eval=5,\n",
    "                  evals=watchlist)"
   ]
  },
  {
   "cell_type": "code",
   "execution_count": null,
   "id": "97d10cb5",
   "metadata": {},
   "outputs": [],
   "source": [
    "# df_score = parse_xgb_output(output)"
   ]
  },
  {
   "cell_type": "code",
   "execution_count": null,
   "id": "3ba1433b",
   "metadata": {},
   "outputs": [],
   "source": [
    "# key = 'eta=%s' % (xgb_params['eta'])\n",
    "# scores[key] = parse_xgb_output(output)\n",
    "# key"
   ]
  },
  {
   "cell_type": "code",
   "execution_count": null,
   "id": "ca39ba52",
   "metadata": {},
   "outputs": [],
   "source": [
    "s = output.stdout #just checking what output looks like\n",
    "print(s[:200])"
   ]
  },
  {
   "cell_type": "code",
   "execution_count": null,
   "id": "72ef9357",
   "metadata": {},
   "outputs": [],
   "source": [
    "scores['eta=0.3'] = parse_xgb_output(output)"
   ]
  },
  {
   "cell_type": "code",
   "execution_count": null,
   "id": "2b350961",
   "metadata": {},
   "outputs": [],
   "source": [
    "%%capture output\n",
    "\n",
    "xgb_params = {\n",
    "    'eta': 0.1, \n",
    "    'max_depth': 6,\n",
    "    'min_child_weight': 1,\n",
    "    \n",
    "    'objective': 'reg:squarederror',\n",
    "    # 'eval_metric': 'rmse',\n",
    "\n",
    "    'nthread': 8,\n",
    "    'seed': 1,\n",
    "    'verbosity': 1,\n",
    "}\n",
    "\n",
    "model = xgb.train(xgb_params, dtrain, num_boost_round=200,\n",
    "                  verbose_eval=5,\n",
    "                  evals=watchlist)"
   ]
  },
  {
   "cell_type": "code",
   "execution_count": null,
   "id": "ce75f69e",
   "metadata": {},
   "outputs": [],
   "source": [
    "scores['eta=0.1'] = parse_xgb_output(output)"
   ]
  },
  {
   "cell_type": "code",
   "execution_count": null,
   "id": "bf6a3082",
   "metadata": {},
   "outputs": [],
   "source": [
    "%%capture output\n",
    "\n",
    "xgb_params = {\n",
    "    'eta': 0.01, \n",
    "    'max_depth': 6,\n",
    "    'min_child_weight': 1,\n",
    "    \n",
    "    'objective': 'reg:squarederror',\n",
    "    # 'eval_metric': 'rmse',\n",
    "\n",
    "    'nthread': 8,\n",
    "    'seed': 1,\n",
    "    'verbosity': 1,\n",
    "}\n",
    "\n",
    "model = xgb.train(xgb_params, dtrain, num_boost_round=200,\n",
    "                  verbose_eval=5,\n",
    "                  evals=watchlist)"
   ]
  },
  {
   "cell_type": "code",
   "execution_count": null,
   "id": "80696c5b",
   "metadata": {},
   "outputs": [],
   "source": [
    "scores['eta=0.01'] = parse_xgb_output(output)"
   ]
  },
  {
   "cell_type": "code",
   "execution_count": null,
   "id": "39955deb",
   "metadata": {},
   "outputs": [],
   "source": [
    "scores.keys()"
   ]
  },
  {
   "cell_type": "code",
   "execution_count": null,
   "id": "d1073dc8",
   "metadata": {},
   "outputs": [],
   "source": [
    "plt.plot(scores['eta=0.3']['num_iter'], scores['eta=0.3']['val_rmse'], label='0.3')\n",
    "plt.plot(scores['eta=0.1']['num_iter'], scores['eta=0.1']['val_rmse'], label='0.1')\n",
    "plt.plot(scores['eta=0.01']['num_iter'], scores['eta=0.01']['val_rmse'], label='0.01')\n",
    "\n",
    "plt.ylim([1.35, 1.40])\n",
    "\n",
    "plt.xlabel('num_boost_round')\n",
    "plt.ylabel('Validation RMSE')\n",
    "plt.title('Checking for best learning rate (ETA)')\n",
    "plt.legend() \n",
    "\n",
    "#We choose rmse of 0.01. Much more stable than 0.1"
   ]
  },
  {
   "cell_type": "code",
   "execution_count": null,
   "id": "9c738974",
   "metadata": {},
   "outputs": [],
   "source": [
    "# scores = {}"
   ]
  },
  {
   "cell_type": "code",
   "execution_count": null,
   "id": "c27667dd",
   "metadata": {},
   "outputs": [],
   "source": [
    "# eta = [0.3, 0.1, 0.01]"
   ]
  },
  {
   "cell_type": "code",
   "execution_count": null,
   "id": "66b2c86f",
   "metadata": {},
   "outputs": [],
   "source": [
    "# for rate in eta:\n",
    "\n",
    "#     %%capture output ####****Magic function not working in for loop\n",
    "\n",
    "#     xgb_params = {\n",
    "#         'eta': rate, #manually change \"eta\" for several values eg; 0.01, 0.1, 0.5, 1.0\n",
    "#         'max_depth': 6, ##manually change \"max_depth\" for several values eg; 2, 4, 6, 7, 10\n",
    "#         'min_child_weight': 1, #manually change \"min_hild_weight\" for several values eg; 0.01, 0.1, 0.5, 1.0\n",
    "\n",
    "#         'objective': 'reg:squarederror',\n",
    "#         'eval_metric': 'rmse',\n",
    "\n",
    "#         'nthread': 8,\n",
    "#         'seed': 1,\n",
    "#         'verbosity': 1,\n",
    "#     }\n",
    "\n",
    "#     model = xgb.train(xgb_params, dtrain, num_boost_round=200,\n",
    "#                       verbose_eval=5,\n",
    "#                       evals=watchlist)\n",
    "\n",
    "#     key = 'eta=%s' % (xgb_params['eta'])\n",
    "#     scores[key] = parse_xgb_output(output)\n",
    "    \n",
    "# #    parse_xgb_output(output)"
   ]
  },
  {
   "cell_type": "markdown",
   "id": "bb09a8af",
   "metadata": {},
   "source": [
    "### Find preferred depth. Choose between depths (1, 2, 3, 5, 10)"
   ]
  },
  {
   "cell_type": "code",
   "execution_count": null,
   "id": "896c36f8",
   "metadata": {},
   "outputs": [],
   "source": [
    "depth = {}"
   ]
  },
  {
   "cell_type": "code",
   "execution_count": null,
   "id": "2682526e",
   "metadata": {},
   "outputs": [],
   "source": [
    "%%capture output\n",
    "\n",
    "xgb_params = {\n",
    "    'eta': 0.01, \n",
    "    'max_depth': 1, #manually change \"max_depth\" for several values eg; 1, 2, 3, 5, 10\n",
    "    'min_child_weight': 1,\n",
    "    \n",
    "    'objective': 'reg:squarederror',\n",
    "    # 'eval_metric': 'rmse',\n",
    "\n",
    "    'nthread': 8,\n",
    "    'seed': 1,\n",
    "    'verbosity': 1,\n",
    "}\n",
    "\n",
    "model = xgb.train(xgb_params, dtrain, num_boost_round=200,\n",
    "                  verbose_eval=5,\n",
    "                  evals=watchlist)"
   ]
  },
  {
   "cell_type": "code",
   "execution_count": null,
   "id": "404bccd4",
   "metadata": {},
   "outputs": [],
   "source": [
    "depth['depth=1'] = parse_xgb_output(output)"
   ]
  },
  {
   "cell_type": "code",
   "execution_count": null,
   "id": "2d108c92",
   "metadata": {},
   "outputs": [],
   "source": [
    "%%capture output\n",
    "\n",
    "xgb_params = {\n",
    "    'eta': 0.01, \n",
    "    'max_depth': 2,\n",
    "    'min_child_weight': 1,\n",
    "    \n",
    "    'objective': 'reg:squarederror',\n",
    "    # 'eval_metric': 'rmse',\n",
    "\n",
    "    'nthread': 8,\n",
    "    'seed': 1,\n",
    "    'verbosity': 1,\n",
    "}\n",
    "\n",
    "model = xgb.train(xgb_params, dtrain, num_boost_round=200,\n",
    "                  verbose_eval=5,\n",
    "                  evals=watchlist)"
   ]
  },
  {
   "cell_type": "code",
   "execution_count": null,
   "id": "cf45643b",
   "metadata": {},
   "outputs": [],
   "source": [
    "depth['depth=2'] = parse_xgb_output(output)"
   ]
  },
  {
   "cell_type": "code",
   "execution_count": null,
   "id": "2080df5f",
   "metadata": {},
   "outputs": [],
   "source": [
    "%%capture output\n",
    "\n",
    "xgb_params = {\n",
    "    'eta': 0.01, \n",
    "    'max_depth': 3,\n",
    "    'min_child_weight': 1,\n",
    "    \n",
    "    'objective': 'reg:squarederror',\n",
    "    # 'eval_metric': 'rmse',\n",
    "\n",
    "    'nthread': 8,\n",
    "    'seed': 1,\n",
    "    'verbosity': 1,\n",
    "}\n",
    "\n",
    "model = xgb.train(xgb_params, dtrain, num_boost_round=200,\n",
    "                  verbose_eval=5,\n",
    "                  evals=watchlist)"
   ]
  },
  {
   "cell_type": "code",
   "execution_count": null,
   "id": "a7259eee",
   "metadata": {},
   "outputs": [],
   "source": [
    "depth['depth=3'] = parse_xgb_output(output)"
   ]
  },
  {
   "cell_type": "code",
   "execution_count": null,
   "id": "d6a03638",
   "metadata": {},
   "outputs": [],
   "source": [
    "%%capture output\n",
    "\n",
    "xgb_params = {\n",
    "    'eta': 0.01, \n",
    "    'max_depth': 5,\n",
    "    'min_child_weight': 1,\n",
    "    \n",
    "    'objective': 'reg:squarederror',\n",
    "    # 'eval_metric': 'rmse',\n",
    "\n",
    "    'nthread': 8,\n",
    "    'seed': 1,\n",
    "    'verbosity': 1,\n",
    "}\n",
    "\n",
    "model = xgb.train(xgb_params, dtrain, num_boost_round=200,\n",
    "                  verbose_eval=5,\n",
    "                  evals=watchlist)"
   ]
  },
  {
   "cell_type": "code",
   "execution_count": null,
   "id": "73f95e2f",
   "metadata": {},
   "outputs": [],
   "source": [
    "depth['depth=5'] = parse_xgb_output(output)"
   ]
  },
  {
   "cell_type": "code",
   "execution_count": null,
   "id": "70c6f1cf",
   "metadata": {},
   "outputs": [],
   "source": [
    "%%capture output\n",
    "\n",
    "xgb_params = {\n",
    "    'eta': 0.01, \n",
    "    'max_depth': 10,\n",
    "    'min_child_weight': 1,\n",
    "    \n",
    "    'objective': 'reg:squarederror',\n",
    "    # 'eval_metric': 'rmse',\n",
    "\n",
    "    'nthread': 8,\n",
    "    'seed': 1,\n",
    "    'verbosity': 1,\n",
    "}\n",
    "\n",
    "model = xgb.train(xgb_params, dtrain, num_boost_round=200,\n",
    "                  verbose_eval=5,\n",
    "                  evals=watchlist)"
   ]
  },
  {
   "cell_type": "code",
   "execution_count": null,
   "id": "e40880bb",
   "metadata": {},
   "outputs": [],
   "source": [
    "depth['depth=10'] = parse_xgb_output(output)"
   ]
  },
  {
   "cell_type": "code",
   "execution_count": null,
   "id": "186e52b3",
   "metadata": {},
   "outputs": [],
   "source": [
    "depth.keys()"
   ]
  },
  {
   "cell_type": "code",
   "execution_count": null,
   "id": "7b6b599e",
   "metadata": {},
   "outputs": [],
   "source": [
    "plt.plot(depth['depth=1']['num_iter'], depth['depth=1']['val_rmse'], label='depth=1')\n",
    "plt.plot(depth['depth=2']['num_iter'], depth['depth=2']['val_rmse'], label='depth=2')\n",
    "plt.plot(depth['depth=3']['num_iter'], depth['depth=3']['val_rmse'], label='depth=3')\n",
    "plt.plot(depth['depth=5']['num_iter'], depth['depth=5']['val_rmse'], label='depth=5')\n",
    "plt.plot(depth['depth=10']['num_iter'], depth['depth=10']['val_rmse'], label='depth=10')\n",
    "\n",
    "plt.ylim([1.30, 1.350])\n",
    "\n",
    "plt.xlabel('num_boost_round')\n",
    "plt.ylabel('Validation RMSE')\n",
    "plt.title('Checking for best max_depth')\n",
    "plt.legend() \n",
    "\n",
    "#We choose max_depth of 1"
   ]
  },
  {
   "cell_type": "markdown",
   "id": "7abcc321",
   "metadata": {},
   "source": [
    "With an `eta` of 0.01, we observed that a `max_depth` of 1 produces the best RMSE. We then proceed to do similar with `min_child_weight`. We wont be doing this but will choose the default value of `1` and `n_estimator` of 150 ."
   ]
  },
  {
   "cell_type": "code",
   "execution_count": null,
   "id": "2f0690e2",
   "metadata": {},
   "outputs": [],
   "source": [
    "#Final xgboost paramters\n",
    "xgb_params = {\n",
    "    'eta': 0.01, \n",
    "    'max_depth': 1,\n",
    "    'min_child_weight': 1,\n",
    "    \n",
    "    'objective': 'reg:squarederror',\n",
    "    # 'eval_metric': 'rmse',\n",
    "\n",
    "    'nthread': 8,\n",
    "    'seed': 1,\n",
    "    'verbosity': 1,\n",
    "}\n",
    "\n",
    "model = xgb.train(xgb_params, dtrain, num_boost_round=150)\n",
    "#                   verbose_eval=5,\n",
    "#                   evals=watchlist)"
   ]
  },
  {
   "cell_type": "markdown",
   "id": "ca02b51f",
   "metadata": {},
   "source": [
    "## Selecting the final model"
   ]
  },
  {
   "cell_type": "markdown",
   "id": "b13c4027",
   "metadata": {},
   "source": [
    "We will be selecting our best model from the trio of `Decision Tree`, `Random Forest` and `xgboost`. Final models are below"
   ]
  },
  {
   "cell_type": "markdown",
   "id": "58cb460d",
   "metadata": {},
   "source": [
    "1. Decision Tree"
   ]
  },
  {
   "cell_type": "code",
   "execution_count": null,
   "id": "e37b3f1e",
   "metadata": {},
   "outputs": [],
   "source": [
    "dt = DecisionTreeRegressor(max_depth=1, min_samples_leaf=20)\n",
    "dt.fit(X_train, y_train)\n",
    "\n",
    "y_pred = dt.predict(X_val)\n",
    "np.sqrt(mean_squared_error(y_val, y_pred))"
   ]
  },
  {
   "cell_type": "markdown",
   "id": "6e89422e",
   "metadata": {},
   "source": [
    "2. Random Forest"
   ]
  },
  {
   "cell_type": "code",
   "execution_count": null,
   "id": "bd501eed",
   "metadata": {},
   "outputs": [],
   "source": [
    "rf = RandomForestRegressor(n_estimators=70, max_depth=5, min_samples_leaf=1, random_state=1)\n",
    "rf.fit(X_train, y_train)\n",
    "\n",
    "y_pred = rf.predict(X_val)\n",
    "rmse = np.sqrt(mean_squared_error(y_val, y_pred))\n",
    "rmse"
   ]
  },
  {
   "cell_type": "markdown",
   "id": "90f8d4a0",
   "metadata": {},
   "source": [
    "3. XGBoost"
   ]
  },
  {
   "cell_type": "code",
   "execution_count": null,
   "id": "908ef5ab",
   "metadata": {},
   "outputs": [],
   "source": [
    "xgb_params = {\n",
    "    'eta': 0.01, \n",
    "    'max_depth': 1,\n",
    "    'min_child_weight': 1,\n",
    "    \n",
    "    'objective': 'reg:squarederror',\n",
    "    # 'eval_metric': 'rmse',\n",
    "\n",
    "    'nthread': 8,\n",
    "    'seed': 1,\n",
    "    'verbosity': 1,\n",
    "}\n",
    "\n",
    "model = xgb.train(xgb_params, dtrain, num_boost_round=150)"
   ]
  },
  {
   "cell_type": "code",
   "execution_count": null,
   "id": "e8953543",
   "metadata": {},
   "outputs": [],
   "source": [
    "y_pred = model.predict(dval)\n",
    "np.sqrt(mean_squared_error(y_val, y_pred))"
   ]
  },
  {
   "cell_type": "markdown",
   "id": "6576c9f4",
   "metadata": {},
   "source": [
    "Final model with the least RMSE is XGBoost with RMSE of `1.305`. We will then use this on the `df_full_train` dataset"
   ]
  },
  {
   "cell_type": "code",
   "execution_count": null,
   "id": "9b3933e2",
   "metadata": {},
   "outputs": [],
   "source": [
    "df_full_train.head()"
   ]
  },
  {
   "cell_type": "code",
   "execution_count": null,
   "id": "b39aa512",
   "metadata": {},
   "outputs": [],
   "source": [
    "df_full_train = df_full_train.reset_index(drop=True)"
   ]
  },
  {
   "cell_type": "code",
   "execution_count": null,
   "id": "7e5d46fa",
   "metadata": {},
   "outputs": [],
   "source": [
    "y_full_train = df_full_train.area.values"
   ]
  },
  {
   "cell_type": "code",
   "execution_count": null,
   "id": "ed7940f6",
   "metadata": {},
   "outputs": [],
   "source": [
    "del df_full_train['area']"
   ]
  },
  {
   "cell_type": "code",
   "execution_count": null,
   "id": "3667996f",
   "metadata": {},
   "outputs": [],
   "source": [
    "dicts_full_train = df_full_train.to_dict(orient='records')\n",
    "\n",
    "dv = DictVectorizer(sparse=False)\n",
    "X_full_train = dv.fit_transform(dicts_full_train)"
   ]
  },
  {
   "cell_type": "code",
   "execution_count": null,
   "id": "48bc742b",
   "metadata": {},
   "outputs": [],
   "source": [
    "dicts_test = df_test.to_dict(orient='records')\n",
    "X_test = dv.transform(dicts_test)"
   ]
  },
  {
   "cell_type": "code",
   "execution_count": null,
   "id": "edc6f2d1",
   "metadata": {},
   "outputs": [],
   "source": [
    "dfulltrain = xgb.DMatrix(X_full_train, label=y_full_train,\n",
    "                    feature_names=dv.get_feature_names())\n",
    "\n",
    "dtest = xgb.DMatrix(X_test, feature_names=dv.get_feature_names())"
   ]
  },
  {
   "cell_type": "code",
   "execution_count": null,
   "id": "3c51042a",
   "metadata": {},
   "outputs": [],
   "source": [
    "xgb_params = {\n",
    "    'eta': 0.03, \n",
    "    'max_depth': 1,\n",
    "    'min_child_weight': 1,\n",
    "\n",
    "    'objective': 'reg:squarederror',\n",
    "    \n",
    "    'nthread': 8,\n",
    "    'seed': 1,\n",
    "    'verbosity': 1,\n",
    "}\n",
    "\n",
    "model = xgb.train(xgb_params, dfulltrain, num_boost_round=150)"
   ]
  },
  {
   "cell_type": "code",
   "execution_count": null,
   "id": "abfc1204",
   "metadata": {},
   "outputs": [],
   "source": [
    "y_pred = model.predict(dtest)\n",
    "np.sqrt(mean_squared_error(y_test, y_pred))"
   ]
  },
  {
   "cell_type": "code",
   "execution_count": null,
   "id": "a45a5e28",
   "metadata": {},
   "outputs": [],
   "source": []
  },
  {
   "cell_type": "code",
   "execution_count": null,
   "id": "ee1c618a",
   "metadata": {},
   "outputs": [],
   "source": []
  },
  {
   "cell_type": "code",
   "execution_count": null,
   "id": "6699278c",
   "metadata": {},
   "outputs": [],
   "source": []
  },
  {
   "cell_type": "code",
   "execution_count": null,
   "id": "1ab9b423",
   "metadata": {},
   "outputs": [],
   "source": []
  },
  {
   "cell_type": "code",
   "execution_count": null,
   "id": "8c6ebff2",
   "metadata": {},
   "outputs": [],
   "source": []
  }
 ],
 "metadata": {
  "kernelspec": {
   "display_name": "Python 3 (ipykernel)",
   "language": "python",
   "name": "python3"
  },
  "language_info": {
   "codemirror_mode": {
    "name": "ipython",
    "version": 3
   },
   "file_extension": ".py",
   "mimetype": "text/x-python",
   "name": "python",
   "nbconvert_exporter": "python",
   "pygments_lexer": "ipython3",
   "version": "3.9.0"
  }
 },
 "nbformat": 4,
 "nbformat_minor": 5
}
